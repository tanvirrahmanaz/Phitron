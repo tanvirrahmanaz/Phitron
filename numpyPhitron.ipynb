{
  "nbformat": 4,
  "nbformat_minor": 0,
  "metadata": {
    "colab": {
      "provenance": [],
      "authorship_tag": "ABX9TyP7ybEQIn0z8AoJSpbKhxlz",
      "include_colab_link": true
    },
    "kernelspec": {
      "name": "python3",
      "display_name": "Python 3"
    },
    "language_info": {
      "name": "python"
    }
  },
  "cells": [
    {
      "cell_type": "markdown",
      "metadata": {
        "id": "view-in-github",
        "colab_type": "text"
      },
      "source": [
        "<a href=\"https://colab.research.google.com/github/tanvirrahmanaz/Phitron/blob/main/numpyPhitron.ipynb\" target=\"_parent\"><img src=\"https://colab.research.google.com/assets/colab-badge.svg\" alt=\"Open In Colab\"/></a>"
      ]
    },
    {
      "cell_type": "code",
      "execution_count": 1,
      "metadata": {
        "colab": {
          "base_uri": "https://localhost:8080/"
        },
        "id": "zGHJeHgdOmSI",
        "outputId": "7c55a452-1317-401d-e637-4d5a3d530501"
      },
      "outputs": [
        {
          "output_type": "stream",
          "name": "stdout",
          "text": [
            "[1, 2, 3, 1, 2, 3, 1, 2, 3, 1, 2, 3, 1, 2, 3]\n",
            "[5, 10, 15]\n"
          ]
        }
      ],
      "source": [
        "arr = [ 1, 2, 3]\n",
        "print(arr * 5)\n",
        "\n",
        "arr = [x*5 for x in arr]\n",
        "print(arr)"
      ]
    },
    {
      "cell_type": "code",
      "source": [
        "import numpy as np"
      ],
      "metadata": {
        "id": "ukeZBhSCT7nI"
      },
      "execution_count": 18,
      "outputs": []
    },
    {
      "cell_type": "markdown",
      "metadata": {
        "id": "2f2ba283"
      },
      "source": [
        "# Task\n",
        "Explain 1D, 2D, and 3D arrays with two examples each using NumPy, and list and explain common NumPy array attributes."
      ]
    },
    {
      "cell_type": "markdown",
      "metadata": {
        "id": "fb8fa89d"
      },
      "source": [
        "## Explain 1d arrays\n",
        "\n",
        "### Subtask:\n",
        "Describe what a 1D array is and provide two examples using NumPy.\n"
      ]
    },
    {
      "cell_type": "markdown",
      "metadata": {
        "id": "6bf6d5c7"
      },
      "source": [
        "**Reasoning**:\n",
        "Explain what a 1D array is and provide two examples using NumPy as requested in the instructions.\n",
        "\n"
      ]
    },
    {
      "cell_type": "code",
      "metadata": {
        "colab": {
          "base_uri": "https://localhost:8080/"
        },
        "id": "6203471d",
        "outputId": "0269a0f9-3468-47f5-bd0b-5c45e0ca27d1"
      },
      "source": [
        "print(\"A 1D array, also known as a vector, is a sequence of elements arranged in a single row or column. It has only one dimension.\")\n",
        "\n",
        "# Example 1: A 1D array of numbers\n",
        "array_1d_numbers = np.array([10, 20, 30, 40, 50])\n",
        "print(\"\\nExample 1 (1D array of numbers):\")\n",
        "print(array_1d_numbers)\n",
        "\n",
        "# Example 2: A 1D array of strings\n",
        "array_1d_strings = np.array([\"apple\", \"banana\", \"cherry\", \"date\"])\n",
        "print(\"\\nExample 2 (1D array of strings):\")\n",
        "print(array_1d_strings)"
      ],
      "execution_count": 14,
      "outputs": [
        {
          "output_type": "stream",
          "name": "stdout",
          "text": [
            "A 1D array, also known as a vector, is a sequence of elements arranged in a single row or column. It has only one dimension.\n",
            "\n",
            "Example 1 (1D array of numbers):\n",
            "[10 20 30 40 50]\n",
            "\n",
            "Example 2 (1D array of strings):\n",
            "['apple' 'banana' 'cherry' 'date']\n"
          ]
        }
      ]
    },
    {
      "cell_type": "markdown",
      "metadata": {
        "id": "41bcd022"
      },
      "source": [
        "## Explain 2d arrays\n",
        "\n",
        "### Subtask:\n",
        "Describe what a 2D array is and provide two examples using NumPy.\n"
      ]
    },
    {
      "cell_type": "markdown",
      "metadata": {
        "id": "5558103a"
      },
      "source": [
        "**Reasoning**:\n",
        "Print the description of a 2D array and then create and print two examples using NumPy arrays as instructed.\n",
        "\n"
      ]
    },
    {
      "cell_type": "code",
      "metadata": {
        "colab": {
          "base_uri": "https://localhost:8080/"
        },
        "id": "00cab163",
        "outputId": "de4b8b5a-c11d-44c9-e30a-c8c4069e12be"
      },
      "source": [
        "print(\"A 2D array, also known as a matrix, is a collection of elements arranged in rows and columns. It has two dimensions.\")\n",
        "\n",
        "# Example 1: A 2D array of numbers\n",
        "array_2d_numbers = np.array([[1, 2, 3], [4, 5, 6], [7, 8, 9]])\n",
        "print(\"\\nExample 1 (2D array of numbers):\")\n",
        "print(array_2d_numbers)\n",
        "\n",
        "# Example 2: A 2D array of strings\n",
        "array_2d_strings = np.array([[\"apple\", \"banana\"], [\"cherry\", \"date\"]])\n",
        "print(\"\\nExample 2 (2D array of strings):\")\n",
        "print(array_2d_strings)"
      ],
      "execution_count": 15,
      "outputs": [
        {
          "output_type": "stream",
          "name": "stdout",
          "text": [
            "A 2D array, also known as a matrix, is a collection of elements arranged in rows and columns. It has two dimensions.\n",
            "\n",
            "Example 1 (2D array of numbers):\n",
            "[[1 2 3]\n",
            " [4 5 6]\n",
            " [7 8 9]]\n",
            "\n",
            "Example 2 (2D array of strings):\n",
            "[['apple' 'banana']\n",
            " ['cherry' 'date']]\n"
          ]
        }
      ]
    },
    {
      "cell_type": "markdown",
      "metadata": {
        "id": "c19dd0ac"
      },
      "source": [
        "## Explain 3d arrays\n",
        "\n",
        "### Subtask:\n",
        "Describe what a 3D array is and provide two examples using NumPy.\n"
      ]
    },
    {
      "cell_type": "markdown",
      "metadata": {
        "id": "d6de65a9"
      },
      "source": [
        "**Reasoning**:\n",
        "Print the description of a 3D array and then create and print two examples of 3D NumPy arrays as requested, one with numerical data and one with string data, adding comments to explain each.\n",
        "\n"
      ]
    },
    {
      "cell_type": "code",
      "metadata": {
        "colab": {
          "base_uri": "https://localhost:8080/"
        },
        "id": "2a3e2ded",
        "outputId": "791504ce-1c5f-4768-bf7e-c5611ce6827b"
      },
      "source": [
        "print(\"A 3D array is a collection of elements arranged in rows, columns, and layers (or depth). It has three dimensions and can be thought of as a stack of 2D arrays.\")\n",
        "\n",
        "# Example 1: A 3D array of numbers\n",
        "# This array has 2 layers, each layer has 2 rows, and each row has 3 columns.\n",
        "array_3d_numbers = np.array([[[1, 2, 3], [4, 5, 6]], [[7, 8, 9], [10, 11, 12]]])\n",
        "print(\"\\nExample 1 (3D array of numbers):\")\n",
        "print(array_3d_numbers)\n",
        "\n",
        "# Example 2: A 3D array of strings\n",
        "# This array has 1 layer, each layer has 2 rows, and each row has 2 columns.\n",
        "array_3d_strings = np.array([[[\"apple\", \"banana\"], [\"cherry\", \"date\"]]])\n",
        "print(\"\\nExample 2 (3D array of strings):\")\n",
        "print(array_3d_strings)"
      ],
      "execution_count": 16,
      "outputs": [
        {
          "output_type": "stream",
          "name": "stdout",
          "text": [
            "A 3D array is a collection of elements arranged in rows, columns, and layers (or depth). It has three dimensions and can be thought of as a stack of 2D arrays.\n",
            "\n",
            "Example 1 (3D array of numbers):\n",
            "[[[ 1  2  3]\n",
            "  [ 4  5  6]]\n",
            "\n",
            " [[ 7  8  9]\n",
            "  [10 11 12]]]\n",
            "\n",
            "Example 2 (3D array of strings):\n",
            "[[['apple' 'banana']\n",
            "  ['cherry' 'date']]]\n"
          ]
        }
      ]
    },
    {
      "cell_type": "markdown",
      "metadata": {
        "id": "6a5a6b53"
      },
      "source": [
        "## Explain numpy attributes\n",
        "\n",
        "### Subtask:\n",
        "List and explain key NumPy array attributes like shape, dtype, ndim, and size.\n"
      ]
    },
    {
      "cell_type": "markdown",
      "metadata": {
        "id": "aca07fed"
      },
      "source": [
        "**Reasoning**:\n",
        "Print a heading and then iterate through the key NumPy array attributes, explaining each one and showing its value for a sample array.\n",
        "\n"
      ]
    },
    {
      "cell_type": "code",
      "metadata": {
        "colab": {
          "base_uri": "https://localhost:8080/"
        },
        "id": "d8b09605",
        "outputId": "93441047-bf22-4498-dfe0-27cbd9bc5770"
      },
      "source": [
        "print(\"--- Key NumPy Array Attributes ---\")\n",
        "\n",
        "# Using array_3d_numbers as an example\n",
        "example_array = array_3d_numbers\n",
        "\n",
        "# shape\n",
        "print(\"\\nAttribute: shape\")\n",
        "print(\"Explanation: The 'shape' attribute returns a tuple indicating the size of the array in each dimension.\")\n",
        "print(f\"Value for the example array: {example_array.shape}\")\n",
        "\n",
        "# dtype\n",
        "print(\"\\nAttribute: dtype\")\n",
        "print(\"Explanation: The 'dtype' attribute returns the data type of the elements in the array.\")\n",
        "print(f\"Value for the example array: {example_array.dtype}\")\n",
        "\n",
        "# ndim\n",
        "print(\"\\nAttribute: ndim\")\n",
        "print(\"Explanation: The 'ndim' attribute returns the number of dimensions of the array.\")\n",
        "print(f\"Value for the example array: {example_array.ndim}\")\n",
        "\n",
        "# size\n",
        "print(\"\\nAttribute: size\")\n",
        "print(\"Explanation: The 'size' attribute returns the total number of elements in the array.\")\n",
        "print(f\"Value for the example array: {example_array.size}\")"
      ],
      "execution_count": 17,
      "outputs": [
        {
          "output_type": "stream",
          "name": "stdout",
          "text": [
            "--- Key NumPy Array Attributes ---\n",
            "\n",
            "Attribute: shape\n",
            "Explanation: The 'shape' attribute returns a tuple indicating the size of the array in each dimension.\n",
            "Value for the example array: (2, 2, 3)\n",
            "\n",
            "Attribute: dtype\n",
            "Explanation: The 'dtype' attribute returns the data type of the elements in the array.\n",
            "Value for the example array: int64\n",
            "\n",
            "Attribute: ndim\n",
            "Explanation: The 'ndim' attribute returns the number of dimensions of the array.\n",
            "Value for the example array: 3\n",
            "\n",
            "Attribute: size\n",
            "Explanation: The 'size' attribute returns the total number of elements in the array.\n",
            "Value for the example array: 12\n"
          ]
        }
      ]
    },
    {
      "cell_type": "markdown",
      "metadata": {
        "id": "ffc943aa"
      },
      "source": [
        "## Summary:\n",
        "\n",
        "### Data Analysis Key Findings\n",
        "\n",
        "*   A 1D array (vector) is a sequence of elements in a single dimension. Examples included `[10, 20, 30, 40, 50]` and `[\"apple\", \"banana\", \"cherry\", \"date\"]`.\n",
        "*   A 2D array (matrix) is a collection of elements arranged in rows and columns. Examples included `[[1, 2, 3], [4, 5, 6], [7, 8, 9]]` and `[[\"apple\", \"banana\"], [\"cherry\", \"date\"]]`.\n",
        "*   A 3D array is a collection of elements arranged in rows, columns, and layers, viewed as a stack of 2D arrays. Examples included `[[[1, 2, 3], [4, 5, 6]], [[7, 8, 9], [10, 11, 12]]]` and `[[[\"apple\", \"banana\"], [\"cherry\", \"date\"]]]`.\n",
        "*   Key NumPy array attributes demonstrated using a 3D array with shape (2, 2, 3), dtype int64, ndim 3, and size 12:\n",
        "    *   `shape`: Returns a tuple indicating the size of the array in each dimension (e.g., (2, 2, 3)).\n",
        "    *   `dtype`: Returns the data type of the elements in the array (e.g., int64).\n",
        "    *   `ndim`: Returns the number of dimensions of the array (e.g., 3).\n",
        "    *   `size`: Returns the total number of elements in the array (e.g., 12).\n",
        "\n",
        "### Insights or Next Steps\n",
        "\n",
        "*   Understanding array dimensions and attributes is fundamental for manipulating and analyzing data using NumPy.\n",
        "*   Further exploration could involve demonstrating how to perform operations on arrays of different dimensions and how these attributes change after operations like reshaping or slicing.\n"
      ]
    },
    {
      "cell_type": "code",
      "source": [],
      "metadata": {
        "id": "O_H1VsUrXSGQ"
      },
      "execution_count": null,
      "outputs": []
    }
  ]
}