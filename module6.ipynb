{
 "cells": [
  {
   "cell_type": "code",
   "execution_count": 14,
   "id": "9e199444-004f-4a9f-a909-cad2a51d3aed",
   "metadata": {},
   "outputs": [],
   "source": [
    "def greet(user = \"guest\"):\n",
    "    print(f\"hello {user}\")"
   ]
  },
  {
   "cell_type": "code",
   "execution_count": 16,
   "id": "2452fe08-e27a-4851-b783-0eec74406991",
   "metadata": {},
   "outputs": [
    {
     "name": "stdout",
     "output_type": "stream",
     "text": [
      "hello guest\n",
      "hello tanvir\n"
     ]
    }
   ],
   "source": [
    "greet() \n",
    "greet(\"tanvir\")"
   ]
  },
  {
   "cell_type": "code",
   "execution_count": 24,
   "id": "c94d8760-21c3-49cc-8354-176edb0622e6",
   "metadata": {},
   "outputs": [
    {
     "name": "stdout",
     "output_type": "stream",
     "text": [
      "a= 3, b= 2, c= 4\n",
      "Final resutl is 29\n"
     ]
    }
   ],
   "source": [
    "def square_addition(a,b,c):\n",
    "    print(f\"a= {a}, b= {b}, c= {c}\")\n",
    "    a = a**2\n",
    "    b = b**2\n",
    "    c= c**2\n",
    "\n",
    "    return a+b+c;\n",
    "\n",
    "result = square_addition(b=2, c=4, a=3)\n",
    "print(f\"Final resutl is {result}\")"
   ]
  },
  {
   "cell_type": "code",
   "execution_count": 45,
   "id": "34a31560-9c09-47ff-8d42-d249c0411d23",
   "metadata": {},
   "outputs": [
    {
     "name": "stdout",
     "output_type": "stream",
     "text": [
      "2**2 = 4\n",
      "3**2 = 9\n",
      "4**2 = 16\n",
      "Final resutl is 29\n"
     ]
    }
   ],
   "source": [
    "def square_addition(*args):\n",
    "    summation =0 \n",
    "    for i in args:\n",
    "        print(f\"{i}**2 = {i**2}\")\n",
    "        i = i**2\n",
    "        summation += i\n",
    "    return summation\n",
    "    \n",
    "\n",
    "result = square_addition(2,3,4)\n",
    "print(f\"Final resutl is {result}\")\n",
    "\n",
    "#result = square_addition(b=2, c=4, a=3) is not acceptable"
   ]
  },
  {
   "cell_type": "code",
   "execution_count": 55,
   "id": "a0504193-3534-4084-b35b-7c1b4703a3cb",
   "metadata": {},
   "outputs": [
    {
     "name": "stdout",
     "output_type": "stream",
     "text": [
      "name = tanvir\n",
      "clas = 10\n"
     ]
    }
   ],
   "source": [
    "def student(**kwargs):\n",
    "    for key,val in kwargs.items():\n",
    "        print(f\"{key} = {val}\")\n",
    "\n",
    "result = student(name=\"tanvir\", clas=10)"
   ]
  },
  {
   "cell_type": "code",
   "execution_count": null,
   "id": "487b486f-7885-44d8-9b0c-0f051b7daacd",
   "metadata": {},
   "outputs": [],
   "source": []
  }
 ],
 "metadata": {
  "kernelspec": {
   "display_name": "Python 3 (ipykernel)",
   "language": "python",
   "name": "python3"
  },
  "language_info": {
   "codemirror_mode": {
    "name": "ipython",
    "version": 3
   },
   "file_extension": ".py",
   "mimetype": "text/x-python",
   "name": "python",
   "nbconvert_exporter": "python",
   "pygments_lexer": "ipython3",
   "version": "3.12.7"
  }
 },
 "nbformat": 4,
 "nbformat_minor": 5
}
