{
  "nbformat": 4,
  "nbformat_minor": 0,
  "metadata": {
    "colab": {
      "provenance": [],
      "authorship_tag": "ABX9TyNk6FSPYCFc6FJPY4GBHCTn",
      "include_colab_link": true
    },
    "kernelspec": {
      "name": "python3",
      "display_name": "Python 3"
    },
    "language_info": {
      "name": "python"
    }
  },
  "cells": [
    {
      "cell_type": "markdown",
      "metadata": {
        "id": "view-in-github",
        "colab_type": "text"
      },
      "source": [
        "<a href=\"https://colab.research.google.com/github/tanvirrahmanaz/Phitron/blob/main/numpyPhitron.ipynb\" target=\"_parent\"><img src=\"https://colab.research.google.com/assets/colab-badge.svg\" alt=\"Open In Colab\"/></a>"
      ]
    },
    {
      "cell_type": "code",
      "execution_count": null,
      "metadata": {
        "colab": {
          "base_uri": "https://localhost:8080/"
        },
        "id": "zGHJeHgdOmSI",
        "outputId": "d60d4320-52d2-44a4-dfd8-2f0ea45d96cb"
      },
      "outputs": [
        {
          "output_type": "stream",
          "name": "stdout",
          "text": [
            "[1, 2, 3, 1, 2, 3, 1, 2, 3, 1, 2, 3, 1, 2, 3]\n",
            "[5, 10, 15]\n"
          ]
        }
      ],
      "source": [
        "arr = [ 1, 2, 3]\n",
        "print(arr * 5)\n",
        "\n",
        "arr = [x*5 for x in arr]\n",
        "print(arr)"
      ]
    },
    {
      "cell_type": "code",
      "source": [
        "import numpy as np"
      ],
      "metadata": {
        "id": "ukeZBhSCT7nI"
      },
      "execution_count": null,
      "outputs": []
    },
    {
      "cell_type": "markdown",
      "metadata": {
        "id": "2f2ba283"
      },
      "source": [
        "# Task\n",
        "Explain 1D, 2D, and 3D arrays with two examples each using NumPy, and list and explain common NumPy array attributes."
      ]
    },
    {
      "cell_type": "markdown",
      "metadata": {
        "id": "fb8fa89d"
      },
      "source": [
        "## Explain 1d arrays\n",
        "\n",
        "### Subtask:\n",
        "Describe what a 1D array is and provide two examples using NumPy.\n"
      ]
    },
    {
      "cell_type": "markdown",
      "metadata": {
        "id": "6bf6d5c7"
      },
      "source": [
        "**Reasoning**:\n",
        "Explain what a 1D array is and provide two examples using NumPy as requested in the instructions.\n",
        "\n"
      ]
    },
    {
      "cell_type": "code",
      "metadata": {
        "colab": {
          "base_uri": "https://localhost:8080/"
        },
        "id": "6203471d",
        "outputId": "ea243168-793b-40ac-d558-a76c01d46f42"
      },
      "source": [
        "print(\"A 1D array, also known as a vector, is a sequence of elements arranged in a single row or column. It has only one dimension.\")\n",
        "\n",
        "# Example 1: A 1D array of numbers\n",
        "array_1d_numbers = np.array([10, 20, 30, 40, 50])\n",
        "print(\"\\nExample 1 (1D array of numbers):\")\n",
        "print(array_1d_numbers)\n",
        "\n",
        "# Example 2: A 1D array of strings\n",
        "array_1d_strings = np.array([\"apple\", \"banana\", \"cherry\", \"date\"])\n",
        "print(\"\\nExample 2 (1D array of strings):\")\n",
        "print(array_1d_strings)"
      ],
      "execution_count": null,
      "outputs": [
        {
          "output_type": "stream",
          "name": "stdout",
          "text": [
            "A 1D array, also known as a vector, is a sequence of elements arranged in a single row or column. It has only one dimension.\n",
            "\n",
            "Example 1 (1D array of numbers):\n",
            "[10 20 30 40 50]\n",
            "\n",
            "Example 2 (1D array of strings):\n",
            "['apple' 'banana' 'cherry' 'date']\n"
          ]
        }
      ]
    },
    {
      "cell_type": "markdown",
      "metadata": {
        "id": "41bcd022"
      },
      "source": [
        "## Explain 2d arrays\n",
        "\n",
        "### Subtask:\n",
        "Describe what a 2D array is and provide two examples using NumPy.\n"
      ]
    },
    {
      "cell_type": "markdown",
      "metadata": {
        "id": "5558103a"
      },
      "source": [
        "**Reasoning**:\n",
        "Print the description of a 2D array and then create and print two examples using NumPy arrays as instructed.\n",
        "\n"
      ]
    },
    {
      "cell_type": "code",
      "metadata": {
        "colab": {
          "base_uri": "https://localhost:8080/"
        },
        "id": "00cab163",
        "outputId": "e3630886-74fb-41d9-ea14-722cd17a7f5e"
      },
      "source": [
        "print(\"A 2D array, also known as a matrix, is a collection of elements arranged in rows and columns. It has two dimensions.\")\n",
        "\n",
        "# Example 1: A 2D array of numbers\n",
        "array_2d_numbers = np.array([[1, 2, 3], [4, 5, 6], [7, 8, 9]])\n",
        "print(\"\\nExample 1 (2D array of numbers):\")\n",
        "print(array_2d_numbers)\n",
        "\n",
        "# Example 2: A 2D array of strings\n",
        "array_2d_strings = np.array([[\"apple\", \"banana\"], [\"cherry\", \"date\"]])\n",
        "print(\"\\nExample 2 (2D array of strings):\")\n",
        "print(array_2d_strings)"
      ],
      "execution_count": null,
      "outputs": [
        {
          "output_type": "stream",
          "name": "stdout",
          "text": [
            "A 2D array, also known as a matrix, is a collection of elements arranged in rows and columns. It has two dimensions.\n",
            "\n",
            "Example 1 (2D array of numbers):\n",
            "[[1 2 3]\n",
            " [4 5 6]\n",
            " [7 8 9]]\n",
            "\n",
            "Example 2 (2D array of strings):\n",
            "[['apple' 'banana']\n",
            " ['cherry' 'date']]\n"
          ]
        }
      ]
    },
    {
      "cell_type": "markdown",
      "metadata": {
        "id": "c19dd0ac"
      },
      "source": [
        "## Explain 3d arrays\n",
        "\n",
        "### Subtask:\n",
        "Describe what a 3D array is and provide two examples using NumPy.\n"
      ]
    },
    {
      "cell_type": "markdown",
      "metadata": {
        "id": "d6de65a9"
      },
      "source": [
        "**Reasoning**:\n",
        "Print the description of a 3D array and then create and print two examples of 3D NumPy arrays as requested, one with numerical data and one with string data, adding comments to explain each.\n",
        "\n"
      ]
    },
    {
      "cell_type": "code",
      "metadata": {
        "colab": {
          "base_uri": "https://localhost:8080/"
        },
        "id": "2a3e2ded",
        "outputId": "386f1678-bc12-438c-dd18-15f8762a10ea"
      },
      "source": [
        "print(\"A 3D array is a collection of elements arranged in rows, columns, and layers (or depth). It has three dimensions and can be thought of as a stack of 2D arrays.\")\n",
        "\n",
        "# Example 1: A 3D array of numbers\n",
        "# This array has 2 layers, each layer has 2 rows, and each row has 3 columns.\n",
        "array_3d_numbers = np.array([[[1, 2, 3], [4, 5, 6]], [[7, 8, 9], [10, 11, 12]]])\n",
        "print(\"\\nExample 1 (3D array of numbers):\")\n",
        "print(array_3d_numbers)\n",
        "\n",
        "# Example 2: A 3D array of strings\n",
        "# This array has 1 layer, each layer has 2 rows, and each row has 2 columns.\n",
        "array_3d_strings = np.array([[[\"apple\", \"banana\"], [\"cherry\", \"date\"]]])\n",
        "print(\"\\nExample 2 (3D array of strings):\")\n",
        "print(array_3d_strings)"
      ],
      "execution_count": null,
      "outputs": [
        {
          "output_type": "stream",
          "name": "stdout",
          "text": [
            "A 3D array is a collection of elements arranged in rows, columns, and layers (or depth). It has three dimensions and can be thought of as a stack of 2D arrays.\n",
            "\n",
            "Example 1 (3D array of numbers):\n",
            "[[[ 1  2  3]\n",
            "  [ 4  5  6]]\n",
            "\n",
            " [[ 7  8  9]\n",
            "  [10 11 12]]]\n",
            "\n",
            "Example 2 (3D array of strings):\n",
            "[[['apple' 'banana']\n",
            "  ['cherry' 'date']]]\n"
          ]
        }
      ]
    },
    {
      "cell_type": "markdown",
      "metadata": {
        "id": "6a5a6b53"
      },
      "source": [
        "## Explain numpy attributes\n",
        "\n",
        "### Subtask:\n",
        "List and explain key NumPy array attributes like shape, dtype, ndim, and size.\n"
      ]
    },
    {
      "cell_type": "markdown",
      "metadata": {
        "id": "aca07fed"
      },
      "source": [
        "**Reasoning**:\n",
        "Print a heading and then iterate through the key NumPy array attributes, explaining each one and showing its value for a sample array.\n",
        "\n"
      ]
    },
    {
      "cell_type": "code",
      "metadata": {
        "colab": {
          "base_uri": "https://localhost:8080/"
        },
        "id": "d8b09605",
        "outputId": "f9ba487b-8622-4b6f-f4bb-c6c516f01f50"
      },
      "source": [
        "print(\"--- Key NumPy Array Attributes ---\")\n",
        "\n",
        "# Using array_3d_numbers as an example\n",
        "example_array = array_3d_numbers\n",
        "\n",
        "# shape\n",
        "print(\"\\nAttribute: shape\")\n",
        "print(\"Explanation: The 'shape' attribute returns a tuple indicating the size of the array in each dimension.\")\n",
        "print(f\"Value for the example array: {example_array.shape}\")\n",
        "\n",
        "# dtype\n",
        "print(\"\\nAttribute: dtype\")\n",
        "print(\"Explanation: The 'dtype' attribute returns the data type of the elements in the array.\")\n",
        "print(f\"Value for the example array: {example_array.dtype}\")\n",
        "\n",
        "# ndim\n",
        "print(\"\\nAttribute: ndim\")\n",
        "print(\"Explanation: The 'ndim' attribute returns the number of dimensions of the array.\")\n",
        "print(f\"Value for the example array: {example_array.ndim}\")\n",
        "\n",
        "# size\n",
        "print(\"\\nAttribute: size\")\n",
        "print(\"Explanation: The 'size' attribute returns the total number of elements in the array.\")\n",
        "print(f\"Value for the example array: {example_array.size}\")"
      ],
      "execution_count": null,
      "outputs": [
        {
          "output_type": "stream",
          "name": "stdout",
          "text": [
            "--- Key NumPy Array Attributes ---\n",
            "\n",
            "Attribute: shape\n",
            "Explanation: The 'shape' attribute returns a tuple indicating the size of the array in each dimension.\n",
            "Value for the example array: (2, 2, 3)\n",
            "\n",
            "Attribute: dtype\n",
            "Explanation: The 'dtype' attribute returns the data type of the elements in the array.\n",
            "Value for the example array: int64\n",
            "\n",
            "Attribute: ndim\n",
            "Explanation: The 'ndim' attribute returns the number of dimensions of the array.\n",
            "Value for the example array: 3\n",
            "\n",
            "Attribute: size\n",
            "Explanation: The 'size' attribute returns the total number of elements in the array.\n",
            "Value for the example array: 12\n"
          ]
        }
      ]
    },
    {
      "cell_type": "markdown",
      "metadata": {
        "id": "ffc943aa"
      },
      "source": [
        "## Summary:\n",
        "\n",
        "### Data Analysis Key Findings\n",
        "\n",
        "*   A 1D array (vector) is a sequence of elements in a single dimension. Examples included `[10, 20, 30, 40, 50]` and `[\"apple\", \"banana\", \"cherry\", \"date\"]`.\n",
        "*   A 2D array (matrix) is a collection of elements arranged in rows and columns. Examples included `[[1, 2, 3], [4, 5, 6], [7, 8, 9]]` and `[[\"apple\", \"banana\"], [\"cherry\", \"date\"]]`.\n",
        "*   A 3D array is a collection of elements arranged in rows, columns, and layers, viewed as a stack of 2D arrays. Examples included `[[[1, 2, 3], [4, 5, 6]], [[7, 8, 9], [10, 11, 12]]]` and `[[[\"apple\", \"banana\"], [\"cherry\", \"date\"]]]`.\n",
        "*   Key NumPy array attributes demonstrated using a 3D array with shape (2, 2, 3), dtype int64, ndim 3, and size 12:\n",
        "    *   `shape`: Returns a tuple indicating the size of the array in each dimension (e.g., (2, 2, 3)).\n",
        "    *   `dtype`: Returns the data type of the elements in the array (e.g., int64).\n",
        "    *   `ndim`: Returns the number of dimensions of the array (e.g., 3).\n",
        "    *   `size`: Returns the total number of elements in the array (e.g., 12).\n",
        "\n",
        "### Insights or Next Steps\n",
        "\n",
        "*   Understanding array dimensions and attributes is fundamental for manipulating and analyzing data using NumPy.\n",
        "*   Further exploration could involve demonstrating how to perform operations on arrays of different dimensions and how these attributes change after operations like reshaping or slicing.\n"
      ]
    },
    {
      "cell_type": "code",
      "source": [
        "import numpy as np\n",
        "tpl = (1,2,4)\n",
        "\n",
        "arr = np.array(tpl)\n"
      ],
      "metadata": {
        "id": "O_H1VsUrXSGQ"
      },
      "execution_count": null,
      "outputs": []
    },
    {
      "cell_type": "code",
      "source": [
        "arr.astype(np.int16)"
      ],
      "metadata": {
        "colab": {
          "base_uri": "https://localhost:8080/"
        },
        "id": "hKJxi6CJ8HB5",
        "outputId": "ed83bc7c-0a17-4fd7-ef13-fa1330e74fdf"
      },
      "execution_count": null,
      "outputs": [
        {
          "output_type": "execute_result",
          "data": {
            "text/plain": [
              "array([1, 2, 4], dtype=int16)"
            ]
          },
          "metadata": {},
          "execution_count": 9
        }
      ]
    },
    {
      "cell_type": "code",
      "source": [
        "arr.dtype"
      ],
      "metadata": {
        "colab": {
          "base_uri": "https://localhost:8080/"
        },
        "id": "KQFt2KcV8RhZ",
        "outputId": "0e86724d-4a6a-4b5c-8ffd-a55f385f9c78"
      },
      "execution_count": null,
      "outputs": [
        {
          "output_type": "execute_result",
          "data": {
            "text/plain": [
              "dtype('int64')"
            ]
          },
          "metadata": {},
          "execution_count": 10
        }
      ]
    },
    {
      "cell_type": "code",
      "source": [
        "arr = np.random.rand(2,3)\n",
        "print(arr)\n",
        "print(type(arr))\n",
        "print(arr.dtype)\n",
        "print(arr.shape)\n",
        "print(arr.ndim)\n",
        "print(arr.size)"
      ],
      "metadata": {
        "id": "m7W_wjIC8W0a",
        "colab": {
          "base_uri": "https://localhost:8080/"
        },
        "outputId": "ffc0cba2-780e-4b15-a383-4c91978acc5d"
      },
      "execution_count": null,
      "outputs": [
        {
          "output_type": "stream",
          "name": "stdout",
          "text": [
            "[[ 2 94 55]\n",
            " [49  8 49]]\n",
            "<class 'numpy.ndarray'>\n",
            "int64\n",
            "(2, 3)\n",
            "2\n",
            "6\n"
          ]
        }
      ]
    },
    {
      "cell_type": "code",
      "source": [
        "arr = np.random.randint(1,10,(2,3))\n",
        "\n",
        "arr"
      ],
      "metadata": {
        "colab": {
          "base_uri": "https://localhost:8080/"
        },
        "id": "7TQGyO9fOBOL",
        "outputId": "e2f26e2a-1c12-4b36-c97c-8e02cbbdbaac"
      },
      "execution_count": null,
      "outputs": [
        {
          "output_type": "execute_result",
          "data": {
            "text/plain": [
              "array([[4, 8, 6],\n",
              "       [9, 6, 1]])"
            ]
          },
          "metadata": {},
          "execution_count": 23
        }
      ]
    },
    {
      "cell_type": "code",
      "source": [
        "arr = np.random.uniform(1,10,(2,3))\n",
        "arr"
      ],
      "metadata": {
        "colab": {
          "base_uri": "https://localhost:8080/"
        },
        "id": "wv4LtMAtO4Co",
        "outputId": "98b87c36-c685-4f4f-c023-60420e03356f"
      },
      "execution_count": null,
      "outputs": [
        {
          "output_type": "execute_result",
          "data": {
            "text/plain": [
              "array([[7.35798818, 4.9387289 , 1.52226574],\n",
              "       [6.59038183, 2.87637966, 6.40136074]])"
            ]
          },
          "metadata": {},
          "execution_count": 26
        }
      ]
    },
    {
      "cell_type": "code",
      "source": [
        "##np.arange(first, end, step)\n",
        "\n",
        "arr = np.arange(1,10,1).reshape(3,3)\n",
        "arr"
      ],
      "metadata": {
        "colab": {
          "base_uri": "https://localhost:8080/"
        },
        "id": "rCTnL-KYPZIo",
        "outputId": "1e1a336b-d729-43ef-b814-c5bf8be305dd"
      },
      "execution_count": null,
      "outputs": [
        {
          "output_type": "execute_result",
          "data": {
            "text/plain": [
              "array([[1, 2, 3],\n",
              "       [4, 5, 6],\n",
              "       [7, 8, 9]])"
            ]
          },
          "metadata": {},
          "execution_count": 32
        }
      ]
    },
    {
      "cell_type": "code",
      "source": [
        "##np.linespace(start, end(include) , koita)\n",
        "\n",
        "arr = np.linspace(1,10,6).reshape(2,3)\n",
        "\n",
        "arr"
      ],
      "metadata": {
        "colab": {
          "base_uri": "https://localhost:8080/"
        },
        "id": "QnRbEqkZQBb2",
        "outputId": "110fdf35-2c66-475e-888f-9bcc9929c57f"
      },
      "execution_count": null,
      "outputs": [
        {
          "output_type": "execute_result",
          "data": {
            "text/plain": [
              "array([[ 1. ,  2.8,  4.6],\n",
              "       [ 6.4,  8.2, 10. ]])"
            ]
          },
          "metadata": {},
          "execution_count": 37
        }
      ]
    },
    {
      "cell_type": "code",
      "source": [
        "##np.logspace(start,endd(included),koita)\n",
        "\n",
        "arr = np.logspace(0,4,5)\n",
        "arr"
      ],
      "metadata": {
        "colab": {
          "base_uri": "https://localhost:8080/"
        },
        "id": "jgxoQG98RCXo",
        "outputId": "c9cb298a-6fc5-4be9-d562-4eab64697e94"
      },
      "execution_count": null,
      "outputs": [
        {
          "output_type": "execute_result",
          "data": {
            "text/plain": [
              "array([1.e+00, 1.e+01, 1.e+02, 1.e+03, 1.e+04])"
            ]
          },
          "metadata": {},
          "execution_count": 39
        }
      ]
    },
    {
      "cell_type": "code",
      "source": [],
      "metadata": {
        "id": "blWM8Y0gTc-Z"
      },
      "execution_count": null,
      "outputs": []
    }
  ]
}