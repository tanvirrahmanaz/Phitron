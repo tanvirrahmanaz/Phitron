{
  "nbformat": 4,
  "nbformat_minor": 0,
  "metadata": {
    "colab": {
      "provenance": [],
      "authorship_tag": "ABX9TyMlxwWYxi6SpS7uH32y8cJc",
      "include_colab_link": true
    },
    "kernelspec": {
      "name": "python3",
      "display_name": "Python 3"
    },
    "language_info": {
      "name": "python"
    }
  },
  "cells": [
    {
      "cell_type": "markdown",
      "metadata": {
        "id": "view-in-github",
        "colab_type": "text"
      },
      "source": [
        "<a href=\"https://colab.research.google.com/github/tanvirrahmanaz/Phitron/blob/main/Module8__OOP.ipynb\" target=\"_parent\"><img src=\"https://colab.research.google.com/assets/colab-badge.svg\" alt=\"Open In Colab\"/></a>"
      ]
    },
    {
      "cell_type": "code",
      "execution_count": null,
      "metadata": {
        "id": "5nOgOgZvdH0K"
      },
      "outputs": [],
      "source": [
        " #Class and objects\n",
        "\n",
        " class Phone:\n",
        "  category = \"Electronics\"\n",
        "\n",
        "\n",
        "  #constructor\n",
        "  def __init__(self, model, battery, camera, battery_percentage=100):\n",
        "    self.model = model\n",
        "    self.battery = battery\n",
        "    self.camera = camera\n",
        "    self.battery_percentage = battery_percentage\n",
        "\n",
        "\n",
        "\n",
        "  #method\n",
        "  def charge(self, hour):\n",
        "    self.charge += hour\n",
        "\n",
        "  def capture(self,total_photo):\n",
        "    if(self.battery_percentage)<0:\n",
        "      print(\"Battery is empty\")\n",
        "    else:\n",
        "      self.battery_percentage -= total_photo\n",
        "      print(f\"Photo Captured in {self.model}\")\n"
      ]
    },
    {
      "cell_type": "code",
      "source": [],
      "metadata": {
        "id": "M_X80--goBf8"
      },
      "execution_count": null,
      "outputs": []
    },
    {
      "cell_type": "code",
      "source": [
        "apple = Phone(\"phone 7\", 3000,30)\n",
        "\n",
        "blueberry = Phone(\"old 7\", 5000,60)\n",
        "\n",
        "\n",
        "print(apple.model)\n",
        "print(blueberry.model)\n",
        "print(apple.battery_percentage)\n",
        "apple.capture(4)\n",
        "print(apple.battery_percentage)\n",
        "apple.capture(3)"
      ],
      "metadata": {
        "colab": {
          "base_uri": "https://localhost:8080/"
        },
        "id": "iRGDpY7Lli8U",
        "outputId": "2ea36e67-432d-4f30-c35d-a6c63f0e19ec"
      },
      "execution_count": null,
      "outputs": [
        {
          "output_type": "stream",
          "name": "stdout",
          "text": [
            "phone 7\n",
            "old 7\n",
            "100\n",
            "Photo Captured in phone 7\n",
            "96\n",
            "Photo Captured in phone 7\n"
          ]
        }
      ]
    },
    {
      "cell_type": "code",
      "source": [
        "apple.battery_percentage"
      ],
      "metadata": {
        "colab": {
          "base_uri": "https://localhost:8080/"
        },
        "id": "zJHFTyVZlobr",
        "outputId": "9892abad-844c-45d4-c8cc-286604d6f71b"
      },
      "execution_count": null,
      "outputs": [
        {
          "output_type": "execute_result",
          "data": {
            "text/plain": [
              "93"
            ]
          },
          "metadata": {},
          "execution_count": 21
        }
      ]
    },
    {
      "cell_type": "code",
      "source": [],
      "metadata": {
        "id": "fRWzxE19puhQ"
      },
      "execution_count": null,
      "outputs": []
    }
  ]
}