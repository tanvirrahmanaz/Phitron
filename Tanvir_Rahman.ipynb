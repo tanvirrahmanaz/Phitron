{
  "nbformat": 4,
  "nbformat_minor": 0,
  "metadata": {
    "colab": {
      "provenance": [],
      "authorship_tag": "ABX9TyPWiTWL617oAyLuHSKb58K0",
      "include_colab_link": true
    },
    "kernelspec": {
      "name": "python3",
      "display_name": "Python 3"
    },
    "language_info": {
      "name": "python"
    }
  },
  "cells": [
    {
      "cell_type": "markdown",
      "metadata": {
        "id": "view-in-github",
        "colab_type": "text"
      },
      "source": [
        "<a href=\"https://colab.research.google.com/github/tanvirrahmanaz/Phitron/blob/main/Tanvir_Rahman.ipynb\" target=\"_parent\"><img src=\"https://colab.research.google.com/assets/colab-badge.svg\" alt=\"Open In Colab\"/></a>"
      ]
    },
    {
      "cell_type": "code",
      "source": [
        "import numpy as np\n",
        "import pandas as pd\n",
        "\n",
        "np.random.seed(42)\n",
        "\n",
        "ids = np.arange(1, 11)\n",
        "ages = np.random.randint(18, 60, 10)\n",
        "salaries = np.random.randint(30000, 90000, 10)\n",
        "departments = np.array([\"HR\", \"IT\", \"Finance\", \"IT\", \"HR\", \"Sales\", \"Finance\", \"IT\", \"Sales\", \"HR\"])\n",
        "\n",
        "DF = pd.DataFrame({\n",
        "\"id\": ids,\n",
        "\"age\": ages,\n",
        "\"salary\": salaries,\n",
        "\"dept\": departments\n",
        "})\n",
        "\n",
        "DF.to_csv(\"employees.csv\", index=False)\n",
        "print(\"Sample Data Created and Saved as employees.csv\")\n"
      ],
      "metadata": {
        "id": "yaPamBILWmOt",
        "colab": {
          "base_uri": "https://localhost:8080/"
        },
        "outputId": "259707a4-a41e-4c2b-e33e-451a32b93db6"
      },
      "execution_count": null,
      "outputs": [
        {
          "output_type": "stream",
          "name": "stdout",
          "text": [
            "Sample Data Created and Saved as employees.csv\n"
          ]
        }
      ]
    },
    {
      "cell_type": "markdown",
      "source": [
        "Q1. Create NumPy arrays from the ages and salaries data generated above. Print both arrays and display their dtype, ndim, shape, and size.\n"
      ],
      "metadata": {
        "id": "SNvGHd1DZhzB"
      }
    },
    {
      "cell_type": "code",
      "source": [
        "ages = np.random.randint(18, 60, 10)\n",
        "salaries = np.random.randint(30000, 90000, 10)\n",
        "\n",
        "print(ages)\n",
        "print(salaries,\"\\n\")\n",
        "\n",
        "print(\"dtype\")\n",
        "print(ages.dtype)\n",
        "print(salaries.dtype)\n",
        "\n",
        "print(\"\\n\")\n",
        "print(\"ndim\")\n",
        "print(ages.ndim)\n",
        "print(salaries.ndim)\n",
        "\n",
        "print(\"\\n\")\n",
        "print(\"shape\")\n",
        "print(ages.shape)\n",
        "print(salaries.shape)\n",
        "\n",
        "print(\"\\n\")\n",
        "print(\"size\")\n",
        "print(ages.size)\n",
        "print(salaries.size)"
      ],
      "metadata": {
        "id": "fMpCmLIVVMyu",
        "colab": {
          "base_uri": "https://localhost:8080/"
        },
        "outputId": "70feafaa-576e-45f2-ff80-e1b6a1d2e3b1"
      },
      "execution_count": null,
      "outputs": [
        {
          "output_type": "stream",
          "name": "stdout",
          "text": [
            "[26 54 50 59 41 32 49 49 41 58]\n",
            "[82915 84384 81005 76576 69353 47675 82733 74417 53938 53664] \n",
            "\n",
            "dtype\n",
            "int64\n",
            "int64\n",
            "\n",
            "\n",
            "ndim\n",
            "1\n",
            "1\n",
            "\n",
            "\n",
            "shape\n",
            "(10,)\n",
            "(10,)\n",
            "\n",
            "\n",
            "size\n",
            "10\n",
            "10\n"
          ]
        }
      ]
    },
    {
      "cell_type": "markdown",
      "source": [
        "Q2. Using the salaries array, find and print the highest and lowest salary values. Also, calculate and print the average salary and age using NumPy functions."
      ],
      "metadata": {
        "id": "ou8NLk5fcvoC"
      }
    },
    {
      "cell_type": "code",
      "source": [
        "print(salaries.max())\n",
        "print(salaries.min())\n",
        "\n",
        "print(np.average(salaries))\n",
        "print(np.average(ages))"
      ],
      "metadata": {
        "colab": {
          "base_uri": "https://localhost:8080/"
        },
        "id": "YMbDOqr7V7ZM",
        "outputId": "e23b354e-8834-400e-e9f1-572b0ac5c962"
      },
      "execution_count": null,
      "outputs": [
        {
          "output_type": "stream",
          "name": "stdout",
          "text": [
            "84384\n",
            "47675\n",
            "70666.0\n",
            "45.9\n"
          ]
        }
      ]
    },
    {
      "cell_type": "markdown",
      "source": [
        "Q3. From the ages array, filter and print all ages greater than 30 using a boolean condition. Then count and print how many employees are older than 30."
      ],
      "metadata": {
        "id": "JtH5EoKNgFE8"
      }
    },
    {
      "cell_type": "code",
      "source": [
        "ages_greater_than_30 = ages[ages > 30]\n",
        "print(ages_greater_than_30)\n",
        "\n",
        "count = np.sum(ages > 30)\n",
        "print(count)"
      ],
      "metadata": {
        "id": "vTNQFeMuV7xk",
        "colab": {
          "base_uri": "https://localhost:8080/"
        },
        "outputId": "bb27470a-5fe0-4441-b36f-9a0b4a00be28"
      },
      "execution_count": null,
      "outputs": [
        {
          "output_type": "stream",
          "name": "stdout",
          "text": [
            "[54 50 59 41 32 49 49 41 58]\n",
            "9\n"
          ]
        }
      ]
    },
    {
      "cell_type": "markdown",
      "source": [
        "Q4. Create a new NumPy array that increases every employee’s age by 5 years (without modifying the original array). Print the new updated ages array."
      ],
      "metadata": {
        "id": "C8vnFPWaim2p"
      }
    },
    {
      "cell_type": "code",
      "source": [
        "update_ages = ages + 5\n",
        "print(update_ages)\n",
        "ages"
      ],
      "metadata": {
        "colab": {
          "base_uri": "https://localhost:8080/"
        },
        "id": "ZiV8FFUZgjy8",
        "outputId": "4d582e51-6693-4d93-f698-185f01ac76f5"
      },
      "execution_count": null,
      "outputs": [
        {
          "output_type": "stream",
          "name": "stdout",
          "text": [
            "[31 59 55 64 46 37 54 54 46 63]\n"
          ]
        },
        {
          "output_type": "execute_result",
          "data": {
            "text/plain": [
              "array([26, 54, 50, 59, 41, 32, 49, 49, 41, 58])"
            ]
          },
          "metadata": {},
          "execution_count": 24
        }
      ]
    },
    {
      "cell_type": "markdown",
      "source": [
        "Q5. Using NumPy, calculate the total salary expense (sum of all salaries) and the difference between the maximum and minimum salary. Print both results."
      ],
      "metadata": {
        "id": "8BRJPxICmuJa"
      }
    },
    {
      "cell_type": "code",
      "source": [
        "total_salary= sum(salaries)\n",
        "print(total_salary)\n",
        "\n",
        "max_salary = salaries.max()\n",
        "min_salary = salaries.min()\n",
        "print(max_salary, min_salary)\n",
        "\n",
        "diff = max_salary - min_salary\n",
        "print(diff)"
      ],
      "metadata": {
        "colab": {
          "base_uri": "https://localhost:8080/"
        },
        "id": "SOqGpt9bmRnh",
        "outputId": "a2290ead-51e1-4b6b-8d79-656dc52dd3b4"
      },
      "execution_count": null,
      "outputs": [
        {
          "output_type": "stream",
          "name": "stdout",
          "text": [
            "706660\n",
            "84384 47675\n",
            "36709\n"
          ]
        }
      ]
    },
    {
      "cell_type": "markdown",
      "source": [
        "##Pandas"
      ],
      "metadata": {
        "id": "Jw5Zy6JknoGC"
      }
    },
    {
      "cell_type": "markdown",
      "source": [
        "Q6. Load the employees.csv file into a Pandas DataFrame. Display the first 5 rows, and check basic info using info() and summary statistics using describe()."
      ],
      "metadata": {
        "id": "FgsnqP-GnrDE"
      }
    },
    {
      "cell_type": "code",
      "source": [
        "df = pd.read_csv(\"employees.csv\")\n",
        "print(\" \\n\")\n",
        "print(df.head())\n",
        "print(\" \\n\")\n",
        "\n",
        "print(df.info())\n",
        "print(\" \\n\")\n",
        "\n",
        "print(df.describe())\n"
      ],
      "metadata": {
        "colab": {
          "base_uri": "https://localhost:8080/"
        },
        "id": "h8wCaTPlnMhs",
        "outputId": "3084d670-22ad-41ce-a8e3-37515d7bdd18"
      },
      "execution_count": null,
      "outputs": [
        {
          "output_type": "stream",
          "name": "stdout",
          "text": [
            " \n",
            "\n",
            "   id  age  salary     dept\n",
            "0   1   56   77191       HR\n",
            "1   2   46   74131       IT\n",
            "2   3   32   46023  Finance\n",
            "3   4   25   71090       IT\n",
            "4   5   38   31685       HR\n",
            " \n",
            "\n",
            "<class 'pandas.core.frame.DataFrame'>\n",
            "RangeIndex: 10 entries, 0 to 9\n",
            "Data columns (total 4 columns):\n",
            " #   Column  Non-Null Count  Dtype \n",
            "---  ------  --------------  ----- \n",
            " 0   id      10 non-null     int64 \n",
            " 1   age     10 non-null     int64 \n",
            " 2   salary  10 non-null     int64 \n",
            " 3   dept    10 non-null     object\n",
            "dtypes: int64(3), object(1)\n",
            "memory usage: 452.0+ bytes\n",
            "None\n",
            " \n",
            "\n",
            "             id       age        salary\n",
            "count  10.00000  10.00000     10.000000\n",
            "mean    5.50000  38.50000  57446.900000\n",
            "std     3.02765  11.16791  24357.262884\n",
            "min     1.00000  25.00000  30769.000000\n",
            "25%     3.25000  29.00000  33152.500000\n",
            "50%     5.50000  37.00000  58556.500000\n",
            "75%     7.75000  44.50000  76426.000000\n",
            "max    10.00000  56.00000  89735.000000\n"
          ]
        }
      ]
    },
    {
      "cell_type": "markdown",
      "source": [
        "Q7. Display only the id, age, and salary columns. Then show the last 3 rows using tail().\n"
      ],
      "metadata": {
        "id": "bbAgduExqEZB"
      }
    },
    {
      "cell_type": "code",
      "source": [
        "subset = df[[\"id\", \"age\", \"salary\"]]\n",
        "print(subset)\n",
        "\n",
        "print(\"\\nLast 3 rows:\")\n",
        "print(subset.tail(3))"
      ],
      "metadata": {
        "colab": {
          "base_uri": "https://localhost:8080/"
        },
        "id": "PH813tRdn5dI",
        "outputId": "ba800c62-815f-4c1b-d9ad-90d0c8a1bd48"
      },
      "execution_count": null,
      "outputs": [
        {
          "output_type": "stream",
          "name": "stdout",
          "text": [
            "   id  age  salary\n",
            "0   1   56   77191\n",
            "1   2   46   74131\n",
            "2   3   32   46023\n",
            "3   4   25   71090\n",
            "4   5   38   31685\n",
            "5   6   56   30769\n",
            "6   7   36   89735\n",
            "7   8   40   86101\n",
            "8   9   28   32433\n",
            "9  10   28   35311\n",
            "\n",
            "Last 3 rows:\n",
            "   id  age  salary\n",
            "7   8   40   86101\n",
            "8   9   28   32433\n",
            "9  10   28   35311\n"
          ]
        }
      ]
    },
    {
      "cell_type": "markdown",
      "source": [
        "Q8. Filter the DataFrame to show only employees who work in the IT department. Print the result and show the total number of IT employees."
      ],
      "metadata": {
        "id": "XDo9Y3tRqHo5"
      }
    },
    {
      "cell_type": "code",
      "source": [
        "it_employees = df[df[\"dept\"] == \"IT\"]\n",
        "total_it_employees = len(it_employees)\n",
        "\n",
        "print(it_employees,\"\\n\")\n",
        "print(total_it_employees)"
      ],
      "metadata": {
        "colab": {
          "base_uri": "https://localhost:8080/"
        },
        "id": "0hUkE6-Lp37p",
        "outputId": "3f33c0c6-e1aa-4262-c9b5-d0bad9f68ecc"
      },
      "execution_count": null,
      "outputs": [
        {
          "output_type": "stream",
          "name": "stdout",
          "text": [
            "   id  age  salary dept\n",
            "1   2   46   74131   IT\n",
            "3   4   25   71090   IT\n",
            "7   8   40   86101   IT \n",
            "\n",
            "3\n"
          ]
        }
      ]
    },
    {
      "cell_type": "markdown",
      "source": [
        "Q9. Sort the DataFrame by salary in descending order and display the top 3 highest-paid employees along with their department and age.\n"
      ],
      "metadata": {
        "id": "Pg4HQ16hsNac"
      }
    },
    {
      "cell_type": "code",
      "source": [
        "sorted_df = df.sort_values(by=\"salary\", ascending=False)\n",
        "top_3_employees = sorted_df.head(3)\n",
        "\n",
        "print(top_3_employees)"
      ],
      "metadata": {
        "colab": {
          "base_uri": "https://localhost:8080/"
        },
        "id": "ZALqswmKq_qc",
        "outputId": "2d172975-5131-4b1d-dc23-b03aba0a540a"
      },
      "execution_count": null,
      "outputs": [
        {
          "output_type": "stream",
          "name": "stdout",
          "text": [
            "   id  age  salary     dept\n",
            "6   7   36   89735  Finance\n",
            "7   8   40   86101       IT\n",
            "0   1   56   77191       HR\n"
          ]
        }
      ]
    },
    {
      "cell_type": "markdown",
      "source": [
        "Q10. Replace all salary values greater than 80000 with 80000 using loc. Then calculate and print the new average salary of all employees after replacement."
      ],
      "metadata": {
        "id": "1zZupGwCtgDO"
      }
    },
    {
      "cell_type": "code",
      "source": [
        "df.loc[df[\"salary\"] > 80000, \"salary\"] = 80000\n",
        "\n",
        "new_average_salary = df[\"salary\"].mean()\n",
        "\n",
        "print(new_average_salary)\n"
      ],
      "metadata": {
        "colab": {
          "base_uri": "https://localhost:8080/"
        },
        "id": "nQBljm5urVtE",
        "outputId": "3e62d4e2-944a-43e1-b5bc-642dce101557"
      },
      "execution_count": null,
      "outputs": [
        {
          "output_type": "stream",
          "name": "stdout",
          "text": [
            "55863.3\n"
          ]
        }
      ]
    },
    {
      "cell_type": "code",
      "source": [],
      "metadata": {
        "id": "Y4FWZ3BKw0AH"
      },
      "execution_count": null,
      "outputs": []
    }
  ]
}