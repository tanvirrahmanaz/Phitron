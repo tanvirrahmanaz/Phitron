{
  "nbformat": 4,
  "nbformat_minor": 0,
  "metadata": {
    "colab": {
      "provenance": [],
      "authorship_tag": "ABX9TyO9tLBfPGGY6UapvWYsW+xM",
      "include_colab_link": true
    },
    "kernelspec": {
      "name": "python3",
      "display_name": "Python 3"
    },
    "language_info": {
      "name": "python"
    }
  },
  "cells": [
    {
      "cell_type": "markdown",
      "metadata": {
        "id": "view-in-github",
        "colab_type": "text"
      },
      "source": [
        "<a href=\"https://colab.research.google.com/github/tanvirrahmanaz/Phitron/blob/main/Tanvir_Rahman.ipynb\" target=\"_parent\"><img src=\"https://colab.research.google.com/assets/colab-badge.svg\" alt=\"Open In Colab\"/></a>"
      ]
    },
    {
      "cell_type": "markdown",
      "source": [
        "Email address: tanvirrahmanaz@gmail.com"
      ],
      "metadata": {
        "id": "isxq-VIp77Xc"
      }
    },
    {
      "cell_type": "code",
      "source": [
        "import numpy as np\n",
        "import pandas as pd\n",
        "\n",
        "np.random.seed(42)\n",
        "\n",
        "ids = np.arange(1, 11)\n",
        "ages = np.random.randint(18, 60, 10)\n",
        "salaries = np.random.randint(30000, 90000, 10)\n",
        "departments = np.array([\"HR\", \"IT\", \"Finance\", \"IT\", \"HR\", \"Sales\", \"Finance\", \"IT\", \"Sales\", \"HR\"])\n",
        "\n",
        "DF = pd.DataFrame({\n",
        "\"id\": ids,\n",
        "\"age\": ages,\n",
        "\"salary\": salaries,\n",
        "\"dept\": departments\n",
        "})\n",
        "\n",
        "DF.to_csv(\"employees.csv\", index=False)\n",
        "print(\"Sample Data Created and Saved as employees.csv\")\n"
      ],
      "metadata": {
        "id": "yaPamBILWmOt",
        "colab": {
          "base_uri": "https://localhost:8080/"
        },
        "outputId": "00bb6ef7-700f-4115-c3e5-01d6264d6ac3"
      },
      "execution_count": 2,
      "outputs": [
        {
          "output_type": "stream",
          "name": "stdout",
          "text": [
            "Sample Data Created and Saved as employees.csv\n"
          ]
        }
      ]
    },
    {
      "cell_type": "markdown",
      "source": [
        "# **Q1**. Create NumPy arrays from the ages and salaries data generated above. Print both arrays and display their dtype, ndim, shape, and size.\n"
      ],
      "metadata": {
        "id": "SNvGHd1DZhzB"
      }
    },
    {
      "cell_type": "code",
      "source": [
        "ages = np.random.randint(18, 60, 10)\n",
        "salaries = np.random.randint(30000, 90000, 10)\n",
        "\n",
        "# Print arrays\n",
        "print(\"=\"*50)\n",
        "print(f\"The Ages are: {ages}\")\n",
        "print(f\"The Salaries are: {salaries}\")\n",
        "print(\"=\"*50)\n",
        "\n",
        "# dtype\n",
        "print(\"\\nData Type (dtype)\")\n",
        "print(f\" - Ages dtype: {ages.dtype}\")\n",
        "print(f\" - Salaries dtype: {salaries.dtype}\")\n",
        "\n",
        "# ndim\n",
        "print(\"\\nDimensions (ndim)\")\n",
        "print(f\" - Ages ndim: {ages.ndim}\")\n",
        "print(f\" - Salaries ndim: {salaries.ndim}\")\n",
        "\n",
        "# shape\n",
        "print(\"\\nShape\")\n",
        "print(f\" - Ages shape: {ages.shape}\")\n",
        "print(f\" - Salaries shape: {salaries.shape}\")\n",
        "\n",
        "# size\n",
        "print(\"\\nSize (Total Elements)\")\n",
        "print(f\" - Ages size: {ages.size}\")\n",
        "print(f\" - Salaries size: {salaries.size}\")\n",
        "print(\"=\"*50)\n"
      ],
      "metadata": {
        "id": "fMpCmLIVVMyu",
        "colab": {
          "base_uri": "https://localhost:8080/"
        },
        "outputId": "e7d44379-a0cb-40a9-ebac-312b6541b413"
      },
      "execution_count": 3,
      "outputs": [
        {
          "output_type": "stream",
          "name": "stdout",
          "text": [
            "==================================================\n",
            "The Ages are: [38 50 29 39 42 44 59 45 33 32]\n",
            "The Salaries are: [30189 49118 65773 83810 31899 86886 31267 61551 80680 41394]\n",
            "==================================================\n",
            "\n",
            "Data Type (dtype)\n",
            " - Ages dtype: int64\n",
            " - Salaries dtype: int64\n",
            "\n",
            "Dimensions (ndim)\n",
            " - Ages ndim: 1\n",
            " - Salaries ndim: 1\n",
            "\n",
            "Shape\n",
            " - Ages shape: (10,)\n",
            " - Salaries shape: (10,)\n",
            "\n",
            "Size (Total Elements)\n",
            " - Ages size: 10\n",
            " - Salaries size: 10\n",
            "==================================================\n"
          ]
        }
      ]
    },
    {
      "cell_type": "markdown",
      "source": [
        "#Q2. Using the salaries array, find and print the highest and lowest salary values. Also, calculate and print the average salary and age using NumPy functions."
      ],
      "metadata": {
        "id": "ou8NLk5fcvoC"
      }
    },
    {
      "cell_type": "code",
      "source": [
        "print(\"Maximum and Minimum Salaries\")\n",
        "print(\"------------------------------\")\n",
        "print(\"Maximum Salary:\", salaries.max())\n",
        "print(\"Minimum Salary:\", salaries.min())\n",
        "\n",
        "print(\"\\nAverage Values\")\n",
        "print(\"---------------\")\n",
        "print(\"Average Salary:\", np.average(salaries))\n",
        "print(\"Average Age:\", np.average(ages))"
      ],
      "metadata": {
        "colab": {
          "base_uri": "https://localhost:8080/"
        },
        "id": "YMbDOqr7V7ZM",
        "outputId": "1cac4e7c-fc77-40b9-c82f-538c828ab6c1"
      },
      "execution_count": 4,
      "outputs": [
        {
          "output_type": "stream",
          "name": "stdout",
          "text": [
            "Maximum and Minimum Salaries\n",
            "------------------------------\n",
            "Maximum Salary: 86886\n",
            "Minimum Salary: 30189\n",
            "\n",
            "Average Values\n",
            "---------------\n",
            "Average Salary: 56256.7\n",
            "Average Age: 41.1\n"
          ]
        }
      ]
    },
    {
      "cell_type": "markdown",
      "source": [
        "#Q3. From the ages array, filter and print all ages greater than 30 using a boolean condition. Then count and print how many employees are older than 30."
      ],
      "metadata": {
        "id": "JtH5EoKNgFE8"
      }
    },
    {
      "cell_type": "code",
      "source": [
        "# Filter ages greater than 30\n",
        "ages_greater_than_30 = ages[ages > 30]\n",
        "print(\"Ages greater than 30:\")\n",
        "print(ages_greater_than_30)\n",
        "\n",
        "# Count how many are older than 30\n",
        "count = np.sum(ages > 30)\n",
        "print(f\"\\nNumber of people older than 30: {count}\")"
      ],
      "metadata": {
        "id": "vTNQFeMuV7xk",
        "colab": {
          "base_uri": "https://localhost:8080/"
        },
        "outputId": "88cbb54b-638b-4886-a013-474c486b5040"
      },
      "execution_count": 5,
      "outputs": [
        {
          "output_type": "stream",
          "name": "stdout",
          "text": [
            "Ages greater than 30:\n",
            "[38 50 39 42 44 59 45 33 32]\n",
            "\n",
            "Number of people older than 30: 9\n"
          ]
        }
      ]
    },
    {
      "cell_type": "markdown",
      "source": [
        "#Q4. Create a new NumPy array that increases every employee’s age by 5 years (without modifying the original array). Print the new updated ages array."
      ],
      "metadata": {
        "id": "C8vnFPWaim2p"
      }
    },
    {
      "cell_type": "code",
      "source": [
        "# Create a new array (without modifying the original)\n",
        "update_ages = ages + 5\n",
        "\n",
        "print(\"\\nUpdated Ages (+5 years added):\")\n",
        "print(update_ages)\n",
        "print(\"=\"*50)\n",
        "\n",
        "# Verify that original array is unchanged\n",
        "print(\"\\nChecking Original Array Again (Unchanged):\")\n",
        "print(ages)\n",
        "print(\"=\"*50)"
      ],
      "metadata": {
        "colab": {
          "base_uri": "https://localhost:8080/"
        },
        "id": "ZiV8FFUZgjy8",
        "outputId": "2100830a-7680-4ca2-b21c-866389ccffd0"
      },
      "execution_count": 6,
      "outputs": [
        {
          "output_type": "stream",
          "name": "stdout",
          "text": [
            "\n",
            "Updated Ages (+5 years added):\n",
            "[43 55 34 44 47 49 64 50 38 37]\n",
            "==================================================\n",
            "\n",
            "Checking Original Array Again (Unchanged):\n",
            "[38 50 29 39 42 44 59 45 33 32]\n",
            "==================================================\n"
          ]
        }
      ]
    },
    {
      "cell_type": "markdown",
      "source": [
        "#Q5. Using NumPy, calculate the total salary expense (sum of all salaries) and the difference between the maximum and minimum salary. Print both results."
      ],
      "metadata": {
        "id": "8BRJPxICmuJa"
      }
    },
    {
      "cell_type": "code",
      "source": [
        "total_salary= sum(salaries)\n",
        "print(total_salary)\n",
        "\n",
        "max_salary = salaries.max()\n",
        "min_salary = salaries.min()\n",
        "print(max_salary, min_salary)\n",
        "\n",
        "diff = max_salary - min_salary\n",
        "print(diff)"
      ],
      "metadata": {
        "colab": {
          "base_uri": "https://localhost:8080/"
        },
        "id": "SOqGpt9bmRnh",
        "outputId": "58cb4916-0044-4dfd-9e0e-2fd63d79b6ed"
      },
      "execution_count": 7,
      "outputs": [
        {
          "output_type": "stream",
          "name": "stdout",
          "text": [
            "562567\n",
            "86886 30189\n",
            "56697\n"
          ]
        }
      ]
    },
    {
      "cell_type": "markdown",
      "source": [
        "##Pandas"
      ],
      "metadata": {
        "id": "Jw5Zy6JknoGC"
      }
    },
    {
      "cell_type": "markdown",
      "source": [
        "#Q6. Load the employees.csv file into a Pandas DataFrame. Display the first 5 rows, and check basic info using info() and summary statistics using describe()."
      ],
      "metadata": {
        "id": "FgsnqP-GnrDE"
      }
    },
    {
      "cell_type": "code",
      "source": [
        "# Load CSV file into a DataFrame\n",
        "df = pd.read_csv(\"employees.csv\")\n",
        "\n",
        "# Display the first 5 rows\n",
        "print(\"=\"*60)\n",
        "print(\"First 5 Rows of the Dataset:\")\n",
        "print(df.head())\n",
        "\n",
        "# Display basic info about the DataFrame\n",
        "print(\"\\nBasic Information:\")\n",
        "print(\"=\"*60)\n",
        "df.info()\n",
        "\n",
        "# Display summary statistics (numerical columns)\n",
        "print(\"\\nSummary Statistics:\")\n",
        "print(\"=\"*60)\n",
        "print(df.describe())"
      ],
      "metadata": {
        "colab": {
          "base_uri": "https://localhost:8080/"
        },
        "id": "h8wCaTPlnMhs",
        "outputId": "ca142f89-7c5d-4475-d764-9cb5dc1ae803"
      },
      "execution_count": 8,
      "outputs": [
        {
          "output_type": "stream",
          "name": "stdout",
          "text": [
            "============================================================\n",
            "First 5 Rows of the Dataset:\n",
            "   id  age  salary     dept\n",
            "0   1   56   77191       HR\n",
            "1   2   46   74131       IT\n",
            "2   3   32   46023  Finance\n",
            "3   4   25   71090       IT\n",
            "4   5   38   31685       HR\n",
            "\n",
            "Basic Information:\n",
            "============================================================\n",
            "<class 'pandas.core.frame.DataFrame'>\n",
            "RangeIndex: 10 entries, 0 to 9\n",
            "Data columns (total 4 columns):\n",
            " #   Column  Non-Null Count  Dtype \n",
            "---  ------  --------------  ----- \n",
            " 0   id      10 non-null     int64 \n",
            " 1   age     10 non-null     int64 \n",
            " 2   salary  10 non-null     int64 \n",
            " 3   dept    10 non-null     object\n",
            "dtypes: int64(3), object(1)\n",
            "memory usage: 452.0+ bytes\n",
            "\n",
            "Summary Statistics:\n",
            "============================================================\n",
            "             id       age        salary\n",
            "count  10.00000  10.00000     10.000000\n",
            "mean    5.50000  38.50000  57446.900000\n",
            "std     3.02765  11.16791  24357.262884\n",
            "min     1.00000  25.00000  30769.000000\n",
            "25%     3.25000  29.00000  33152.500000\n",
            "50%     5.50000  37.00000  58556.500000\n",
            "75%     7.75000  44.50000  76426.000000\n",
            "max    10.00000  56.00000  89735.000000\n"
          ]
        }
      ]
    },
    {
      "cell_type": "markdown",
      "source": [
        "#Q7.Display only the id, age, and salary columns. Then show the last 3 rows using tail().\n"
      ],
      "metadata": {
        "id": "bbAgduExqEZB"
      }
    },
    {
      "cell_type": "code",
      "source": [
        "# Select only id, age, and salary columns\n",
        "subset = df[[\"id\", \"age\", \"salary\"]]\n",
        "\n",
        "print(\"=\"*60)\n",
        "print(\"Selected Columns (id, age, salary):\")\n",
        "print(subset)\n",
        "\n",
        "# Display the last 3 rows\n",
        "print(\"\\nLast 3 Rows:\")\n",
        "print(subset.tail(3))\n",
        "print(\"=\"*60)"
      ],
      "metadata": {
        "colab": {
          "base_uri": "https://localhost:8080/"
        },
        "id": "PH813tRdn5dI",
        "outputId": "5653544c-848f-4ccc-cf42-014d779dfdfa"
      },
      "execution_count": 9,
      "outputs": [
        {
          "output_type": "stream",
          "name": "stdout",
          "text": [
            "============================================================\n",
            "Selected Columns (id, age, salary):\n",
            "   id  age  salary\n",
            "0   1   56   77191\n",
            "1   2   46   74131\n",
            "2   3   32   46023\n",
            "3   4   25   71090\n",
            "4   5   38   31685\n",
            "5   6   56   30769\n",
            "6   7   36   89735\n",
            "7   8   40   86101\n",
            "8   9   28   32433\n",
            "9  10   28   35311\n",
            "\n",
            "Last 3 Rows:\n",
            "   id  age  salary\n",
            "7   8   40   86101\n",
            "8   9   28   32433\n",
            "9  10   28   35311\n",
            "============================================================\n"
          ]
        }
      ]
    },
    {
      "cell_type": "markdown",
      "source": [
        "#Q8. Filter the DataFrame to show only employees who work in the IT department. Print the result and show the total number of IT employees."
      ],
      "metadata": {
        "id": "XDo9Y3tRqHo5"
      }
    },
    {
      "cell_type": "code",
      "source": [
        "# Filter employees from the IT department\n",
        "it_employees = df[df[\"dept\"] == \"IT\"]\n",
        "total_it_employees = len(it_employees)\n",
        "\n",
        "print(\"=\"*60)\n",
        "print(\"💻 Employees from IT Department:\")\n",
        "print(it_employees)\n",
        "\n",
        "print(\"\\n📊 Total Number of IT Employees:\", total_it_employees)\n",
        "print(\"=\"*60)"
      ],
      "metadata": {
        "colab": {
          "base_uri": "https://localhost:8080/"
        },
        "id": "0hUkE6-Lp37p",
        "outputId": "6de410bf-9f86-4925-964e-3713b430d593"
      },
      "execution_count": 10,
      "outputs": [
        {
          "output_type": "stream",
          "name": "stdout",
          "text": [
            "============================================================\n",
            "💻 Employees from IT Department:\n",
            "   id  age  salary dept\n",
            "1   2   46   74131   IT\n",
            "3   4   25   71090   IT\n",
            "7   8   40   86101   IT\n",
            "\n",
            "📊 Total Number of IT Employees: 3\n",
            "============================================================\n"
          ]
        }
      ]
    },
    {
      "cell_type": "markdown",
      "source": [
        "#Q9. Sort the DataFrame by salary in descending order and display the top 3 highest-paid employees along with their department and age.\n"
      ],
      "metadata": {
        "id": "Pg4HQ16hsNac"
      }
    },
    {
      "cell_type": "code",
      "source": [
        "# Sort DataFrame by salary (descending order)\n",
        "sorted_df = df.sort_values(by=\"salary\", ascending=False)\n",
        "\n",
        "# Select top 3 highest-paid employees\n",
        "top_3_employees = sorted_df.head(3)[[\"id\", \"age\", \"dept\", \"salary\"]]\n",
        "\n",
        "print(\"=\"*60)\n",
        "print(\"Top 3 Highest-Paid Employees:\")\n",
        "print(top_3_employees)\n",
        "print(\"=\"*60)"
      ],
      "metadata": {
        "colab": {
          "base_uri": "https://localhost:8080/"
        },
        "id": "ZALqswmKq_qc",
        "outputId": "9becb030-a69b-4e01-a4b2-107c017b9055"
      },
      "execution_count": 11,
      "outputs": [
        {
          "output_type": "stream",
          "name": "stdout",
          "text": [
            "============================================================\n",
            "Top 3 Highest-Paid Employees:\n",
            "   id  age     dept  salary\n",
            "6   7   36  Finance   89735\n",
            "7   8   40       IT   86101\n",
            "0   1   56       HR   77191\n",
            "============================================================\n"
          ]
        }
      ]
    },
    {
      "cell_type": "markdown",
      "source": [
        "#Q10. Replace all salary values greater than 80000 with 80000 using loc. Then calculate and print the new average salary of all employees after replacement."
      ],
      "metadata": {
        "id": "1zZupGwCtgDO"
      }
    },
    {
      "cell_type": "code",
      "source": [
        "df.loc[df[\"salary\"] > 80000, \"salary\"] = 80000\n",
        "\n",
        "new_average_salary = df[\"salary\"].mean()\n",
        "\n",
        "\n",
        "print(\"\\nNew Average Salary after Replacement:\", new_average_salary)\n"
      ],
      "metadata": {
        "colab": {
          "base_uri": "https://localhost:8080/"
        },
        "id": "nQBljm5urVtE",
        "outputId": "9619431a-8c8c-4f5b-ff8d-6f88571cbde0"
      },
      "execution_count": 13,
      "outputs": [
        {
          "output_type": "stream",
          "name": "stdout",
          "text": [
            "\n",
            "New Average Salary after Replacement: 55863.3\n"
          ]
        }
      ]
    },
    {
      "cell_type": "code",
      "source": [],
      "metadata": {
        "id": "Y4FWZ3BKw0AH"
      },
      "execution_count": 12,
      "outputs": []
    }
  ]
}